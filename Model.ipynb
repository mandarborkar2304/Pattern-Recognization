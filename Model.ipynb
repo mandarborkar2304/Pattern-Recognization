#using tensorflow documentation creating a new model

